{
  "nbformat": 4,
  "nbformat_minor": 0,
  "metadata": {
    "colab": {
      "name": "bcell-r152-TLcomplete-k9.ipynb",
      "provenance": [],
      "collapsed_sections": []
    },
    "kernelspec": {
      "name": "python3",
      "display_name": "Python 3"
    },
    "accelerator": "GPU"
  },
  "cells": [
    {
      "cell_type": "code",
      "metadata": {
        "id": "AK10KlCADl5m",
        "colab_type": "code",
        "outputId": "ab87b86f-a41a-448c-d4f6-f50d33a70d3e",
        "colab": {
          "base_uri": "https://localhost:8080/",
          "height": 126
        }
      },
      "source": [
        "from google.colab import drive\n",
        "drive.mount('/content/drive/')"
      ],
      "execution_count": 0,
      "outputs": [
        {
          "output_type": "stream",
          "text": [
            "Go to this URL in a browser: https://accounts.google.com/o/oauth2/auth?client_id=947318989803-6bn6qk8qdgf4n4g3pfee6491hc0brc4i.apps.googleusercontent.com&redirect_uri=urn%3aietf%3awg%3aoauth%3a2.0%3aoob&response_type=code&scope=email%20https%3a%2f%2fwww.googleapis.com%2fauth%2fdocs.test%20https%3a%2f%2fwww.googleapis.com%2fauth%2fdrive%20https%3a%2f%2fwww.googleapis.com%2fauth%2fdrive.photos.readonly%20https%3a%2f%2fwww.googleapis.com%2fauth%2fpeopleapi.readonly\n",
            "\n",
            "Enter your authorization code:\n",
            "··········\n",
            "Mounted at /content/drive/\n"
          ],
          "name": "stdout"
        }
      ]
    },
    {
      "cell_type": "code",
      "metadata": {
        "id": "zyrFJNWCXlot",
        "colab_type": "code",
        "outputId": "c09fbbc5-694a-4151-db52-885c3ca93c0d",
        "colab": {
          "base_uri": "https://localhost:8080/",
          "height": 35
        }
      },
      "source": [
        "%cd drive/My\\ Drive"
      ],
      "execution_count": 0,
      "outputs": [
        {
          "output_type": "stream",
          "text": [
            "/content/drive/My Drive\n"
          ],
          "name": "stdout"
        }
      ]
    },
    {
      "cell_type": "code",
      "metadata": {
        "id": "lDodE33tX3OX",
        "colab_type": "code",
        "outputId": "17c81c79-393e-4296-878a-67e551e9341f",
        "colab": {
          "base_uri": "https://localhost:8080/",
          "height": 35
        }
      },
      "source": [
        "%cd bc-k9"
      ],
      "execution_count": 0,
      "outputs": [
        {
          "output_type": "stream",
          "text": [
            "/content/drive/My Drive/bc-k9\n"
          ],
          "name": "stdout"
        }
      ]
    },
    {
      "cell_type": "code",
      "metadata": {
        "id": "MTRlXLVp3W33",
        "colab_type": "code",
        "colab": {}
      },
      "source": [
        "!unzip 'train.zip'"
      ],
      "execution_count": 0,
      "outputs": []
    },
    {
      "cell_type": "code",
      "metadata": {
        "id": "mSyGEg0R3aXo",
        "colab_type": "code",
        "colab": {}
      },
      "source": [
        "!unzip 'valid.zip'"
      ],
      "execution_count": 0,
      "outputs": []
    },
    {
      "cell_type": "code",
      "metadata": {
        "id": "oAjV1wHh3ct0",
        "colab_type": "code",
        "colab": {}
      },
      "source": [
        "!unzip 'test.zip'"
      ],
      "execution_count": 0,
      "outputs": []
    },
    {
      "cell_type": "code",
      "metadata": {
        "id": "rmpZXrijBl6Q",
        "colab_type": "code",
        "colab": {}
      },
      "source": [
        "!pip3 install torch===1.2.0 torchvision===0.4.0 -f https://download.pytorch.org/whl/torch_stable.html\n",
        "!pip install typeguard"
      ],
      "execution_count": 0,
      "outputs": []
    },
    {
      "cell_type": "code",
      "metadata": {
        "id": "C7PL6NrYDNXh",
        "colab_type": "code",
        "colab": {}
      },
      "source": [
        "#Imports\n",
        "from fastai import *\n",
        "from fastai.vision import *\n",
        "import pandas as pd\n",
        "import matplotlib.pyplot as plt\n",
        "import numpy as np\n",
        "import os\n",
        "import scipy as sp\n",
        "from functools import partial\n",
        "from sklearn import metrics\n",
        "from collections import Counter\n",
        "from fastai.callbacks import *\n",
        "import PIL\n",
        "import cv2\n",
        "import sklearn\n",
        "import skimage\n",
        "bs = 64"
      ],
      "execution_count": 0,
      "outputs": []
    },
    {
      "cell_type": "code",
      "metadata": {
        "id": "pLN3fC1y5kq_",
        "colab_type": "code",
        "outputId": "7c12a5ce-a1ce-4a20-c92c-206cef460996",
        "colab": {
          "base_uri": "https://localhost:8080/",
          "height": 35
        }
      },
      "source": [
        "%cd .."
      ],
      "execution_count": 0,
      "outputs": [
        {
          "output_type": "stream",
          "text": [
            "/content/drive/My Drive\n"
          ],
          "name": "stdout"
        }
      ]
    },
    {
      "cell_type": "code",
      "metadata": {
        "id": "Pyu-N4hzDeMi",
        "colab_type": "code",
        "colab": {}
      },
      "source": [
        "#images_path\n",
        "path_images = Path('bc-k9')"
      ],
      "execution_count": 0,
      "outputs": []
    },
    {
      "cell_type": "code",
      "metadata": {
        "id": "sR0G9CozDipi",
        "colab_type": "code",
        "outputId": "8fd99205-da0c-4ba8-91bb-a2cc9b74c44e",
        "colab": {
          "base_uri": "https://localhost:8080/",
          "height": 319
        }
      },
      "source": [
        "#data path and init\n",
        "data = ImageDataBunch.from_folder(path=path_images, train='train', valid='valid', bs=bs, classes=['TT','others','garbage']) \n",
        "data.normalize()"
      ],
      "execution_count": 0,
      "outputs": [
        {
          "output_type": "execute_result",
          "data": {
            "text/plain": [
              "ImageDataBunch;\n",
              "\n",
              "Train: LabelList (26600 items)\n",
              "x: ImageList\n",
              "Image (3, 31, 279),Image (3, 31, 279),Image (3, 31, 279),Image (3, 31, 279),Image (3, 31, 279)\n",
              "y: CategoryList\n",
              "garbage,garbage,garbage,garbage,garbage\n",
              "Path: bc-k9;\n",
              "\n",
              "Valid: LabelList (7924 items)\n",
              "x: ImageList\n",
              "Image (3, 31, 279),Image (3, 31, 279),Image (3, 31, 279),Image (3, 31, 279),Image (3, 31, 279)\n",
              "y: CategoryList\n",
              "garbage,garbage,garbage,garbage,garbage\n",
              "Path: bc-k9;\n",
              "\n",
              "Test: None"
            ]
          },
          "metadata": {
            "tags": []
          },
          "execution_count": 11
        }
      ]
    },
    {
      "cell_type": "code",
      "metadata": {
        "id": "Isa8CLDkDbhw",
        "colab_type": "code",
        "outputId": "b0741a42-465f-4e47-e7e6-c3ea969e1a30",
        "colab": {
          "base_uri": "https://localhost:8080/",
          "height": 35
        }
      },
      "source": [
        "data.classes"
      ],
      "execution_count": 0,
      "outputs": [
        {
          "output_type": "execute_result",
          "data": {
            "text/plain": [
              "['TT', 'others', 'garbage']"
            ]
          },
          "metadata": {
            "tags": []
          },
          "execution_count": 12
        }
      ]
    },
    {
      "cell_type": "code",
      "metadata": {
        "id": "AVel167jHgud",
        "colab_type": "code",
        "outputId": "cb46b901-de11-491e-f0c4-4d0c40657dd2",
        "colab": {
          "base_uri": "https://localhost:8080/",
          "height": 53
        }
      },
      "source": [
        "learn = cnn_learner(data, models.resnet152, metrics=error_rate)\n",
        "learn.unfreeze()"
      ],
      "execution_count": 0,
      "outputs": [
        {
          "output_type": "stream",
          "text": [
            "Downloading: \"https://download.pytorch.org/models/resnet152-b121ed2d.pth\" to /root/.cache/torch/checkpoints/resnet152-b121ed2d.pth\n",
            "100%|██████████| 230M/230M [00:02<00:00, 106MB/s]\n"
          ],
          "name": "stderr"
        }
      ]
    },
    {
      "cell_type": "code",
      "metadata": {
        "id": "z4vPl_JBFuBv",
        "colab_type": "code",
        "outputId": "250c10e0-001e-4289-e692-dd6b5d73dedd",
        "colab": {
          "base_uri": "https://localhost:8080/",
          "height": 332
        }
      },
      "source": [
        "learn.lr_find(start_lr=1e-6, end_lr=1e1, wd=5e-3)\n",
        "learn.recorder.plot(suggestion=True)"
      ],
      "execution_count": 0,
      "outputs": [
        {
          "output_type": "display_data",
          "data": {
            "text/html": [
              ""
            ],
            "text/plain": [
              "<IPython.core.display.HTML object>"
            ]
          },
          "metadata": {
            "tags": []
          }
        },
        {
          "output_type": "stream",
          "text": [
            "LR Finder is complete, type {learner_name}.recorder.plot() to see the graph.\n",
            "Min numerical gradient: 9.12E-05\n",
            "Min loss divided by 10: 9.33E-03\n"
          ],
          "name": "stdout"
        },
        {
          "output_type": "display_data",
          "data": {
            "image/png": "[encoded data removed]",
            "text/plain": [
              "<Figure size 432x288 with 1 Axes>"
            ]
          },
          "metadata": {
            "tags": []
          }
        }
      ]
    },
    {
      "cell_type": "code",
      "metadata": {
        "id": "YMzNLM_WFuzT",
        "colab_type": "code",
        "outputId": "1d047591-b044-443c-e885-c29970810ddd",
        "colab": {
          "base_uri": "https://localhost:8080/",
          "height": 342
        }
      },
      "source": [
        "learn.fit_one_cycle(1, max_lr=slice(6e-5, 1e-2))\n",
        "#learn.save('-stage1')\n",
        "learn.recorder.plot_losses()"
      ],
      "execution_count": 0,
      "outputs": [
        {
          "output_type": "display_data",
          "data": {
            "text/html": [
              "<table border=\"1\" class=\"dataframe\">\n",
              "  <thead>\n",
              "    <tr style=\"text-align: left;\">\n",
              "      <th>epoch</th>\n",
              "      <th>train_loss</th>\n",
              "      <th>valid_loss</th>\n",
              "      <th>error_rate</th>\n",
              "      <th>time</th>\n",
              "    </tr>\n",
              "  </thead>\n",
              "  <tbody>\n",
              "    <tr>\n",
              "      <td>0</td>\n",
              "      <td>0.276381</td>\n",
              "      <td>0.225864</td>\n",
              "      <td>0.083544</td>\n",
              "      <td>02:38</td>\n",
              "    </tr>\n",
              "  </tbody>\n",
              "</table>"
            ],
            "text/plain": [
              "<IPython.core.display.HTML object>"
            ]
          },
          "metadata": {
            "tags": []
          }
        },
        {
          "output_type": "display_data",
          "data": {
            "image/png": "[encoded data removed]",
            "text/plain": [
              "<Figure size 432x288 with 1 Axes>"
            ]
          },
          "metadata": {
            "tags": []
          }
        }
      ]
    },
    {
      "cell_type": "code",
      "metadata": {
        "id": "vHJa7rO1Zv5n",
        "colab_type": "code",
        "outputId": "4cc37d8b-854a-4e71-cdaf-4b9b397116da",
        "colab": {
          "base_uri": "https://localhost:8080/",
          "height": 566
        }
      },
      "source": [
        "learn.fit_one_cycle(8, max_lr=slice(1e-3))\n",
        "#learn.save('-stage1')\n",
        "learn.recorder.plot_losses()"
      ],
      "execution_count": 0,
      "outputs": [
        {
          "output_type": "display_data",
          "data": {
            "text/html": [
              "<table border=\"1\" class=\"dataframe\">\n",
              "  <thead>\n",
              "    <tr style=\"text-align: left;\">\n",
              "      <th>epoch</th>\n",
              "      <th>train_loss</th>\n",
              "      <th>valid_loss</th>\n",
              "      <th>error_rate</th>\n",
              "      <th>time</th>\n",
              "    </tr>\n",
              "  </thead>\n",
              "  <tbody>\n",
              "    <tr>\n",
              "      <td>0</td>\n",
              "      <td>0.235450</td>\n",
              "      <td>0.220384</td>\n",
              "      <td>0.084679</td>\n",
              "      <td>02:37</td>\n",
              "    </tr>\n",
              "    <tr>\n",
              "      <td>1</td>\n",
              "      <td>0.253667</td>\n",
              "      <td>0.229939</td>\n",
              "      <td>0.086320</td>\n",
              "      <td>02:37</td>\n",
              "    </tr>\n",
              "    <tr>\n",
              "      <td>2</td>\n",
              "      <td>0.221852</td>\n",
              "      <td>0.242149</td>\n",
              "      <td>0.081777</td>\n",
              "      <td>02:37</td>\n",
              "    </tr>\n",
              "    <tr>\n",
              "      <td>3</td>\n",
              "      <td>0.198588</td>\n",
              "      <td>0.208289</td>\n",
              "      <td>0.078622</td>\n",
              "      <td>02:37</td>\n",
              "    </tr>\n",
              "    <tr>\n",
              "      <td>4</td>\n",
              "      <td>0.147365</td>\n",
              "      <td>0.241577</td>\n",
              "      <td>0.080767</td>\n",
              "      <td>02:38</td>\n",
              "    </tr>\n",
              "    <tr>\n",
              "      <td>5</td>\n",
              "      <td>0.069998</td>\n",
              "      <td>0.297707</td>\n",
              "      <td>0.085058</td>\n",
              "      <td>02:37</td>\n",
              "    </tr>\n",
              "    <tr>\n",
              "      <td>6</td>\n",
              "      <td>0.025037</td>\n",
              "      <td>0.382344</td>\n",
              "      <td>0.085058</td>\n",
              "      <td>02:37</td>\n",
              "    </tr>\n",
              "    <tr>\n",
              "      <td>7</td>\n",
              "      <td>0.009805</td>\n",
              "      <td>0.376821</td>\n",
              "      <td>0.083544</td>\n",
              "      <td>02:37</td>\n",
              "    </tr>\n",
              "  </tbody>\n",
              "</table>"
            ],
            "text/plain": [
              "<IPython.core.display.HTML object>"
            ]
          },
          "metadata": {
            "tags": []
          }
        },
        {
          "output_type": "display_data",
          "data": {
            "image/png": "[encoded data removed]",
            "text/plain": [
              "<Figure size 432x288 with 1 Axes>"
            ]
          },
          "metadata": {
            "tags": []
          }
        }
      ]
    },
    {
      "cell_type": "code",
      "metadata": {
        "id": "gtDY3eek20Fw",
        "colab_type": "code",
        "colab": {}
      },
      "source": [
        "learn.save('bcell-TL-k9')"
      ],
      "execution_count": 0,
      "outputs": []
    },
    {
      "cell_type": "code",
      "metadata": {
        "id": "GYZm3lQmBTKw",
        "colab_type": "code",
        "colab": {}
      },
      "source": [
        "learn.export('bcell-TL-k9.pkl')"
      ],
      "execution_count": 0,
      "outputs": []
    },
    {
      "cell_type": "code",
      "metadata": {
        "id": "WB4XuC2O3_Yd",
        "colab_type": "code",
        "colab": {}
      },
      "source": [
        "#images_path\n",
        "path_images = Path('k9')"
      ],
      "execution_count": 0,
      "outputs": []
    },
    {
      "cell_type": "code",
      "metadata": {
        "id": "X1dV_JXHktBa",
        "colab_type": "code",
        "outputId": "52a7709e-4583-4ce1-c974-725709838418",
        "colab": {
          "base_uri": "https://localhost:8080/",
          "height": 35
        }
      },
      "source": [
        "%cd 'k9'"
      ],
      "execution_count": 0,
      "outputs": [
        {
          "output_type": "stream",
          "text": [
            "/content/drive/My Drive/k9\n"
          ],
          "name": "stdout"
        }
      ]
    },
    {
      "cell_type": "code",
      "metadata": {
        "id": "cFs8U8pnkvPR",
        "colab_type": "code",
        "colab": {}
      },
      "source": [
        "!unzip 'train.zip'"
      ],
      "execution_count": 0,
      "outputs": []
    },
    {
      "cell_type": "code",
      "metadata": {
        "id": "0BvgQF8skxw5",
        "colab_type": "code",
        "colab": {}
      },
      "source": [
        "!unzip 'valid.zip'"
      ],
      "execution_count": 0,
      "outputs": []
    },
    {
      "cell_type": "code",
      "metadata": {
        "id": "hlssah0TmbdO",
        "colab_type": "code",
        "colab": {}
      },
      "source": [
        "!unzip 'test.zip'"
      ],
      "execution_count": 0,
      "outputs": []
    },
    {
      "cell_type": "code",
      "metadata": {
        "id": "s8HWJ_FwoqFF",
        "colab_type": "code",
        "outputId": "2e812dd9-8b3d-488b-fb86-a21d6d9cebe6",
        "colab": {
          "base_uri": "https://localhost:8080/",
          "height": 35
        }
      },
      "source": [
        "%cd .."
      ],
      "execution_count": 0,
      "outputs": [
        {
          "output_type": "stream",
          "text": [
            "/content/drive/My Drive\n"
          ],
          "name": "stdout"
        }
      ]
    },
    {
      "cell_type": "code",
      "metadata": {
        "id": "VljCCIBcovGV",
        "colab_type": "code",
        "colab": {}
      },
      "source": [
        "path_images = Path('k9')"
      ],
      "execution_count": 0,
      "outputs": []
    },
    {
      "cell_type": "code",
      "metadata": {
        "id": "mxkxJu8P-PWp",
        "colab_type": "code",
        "outputId": "f40e04f6-fced-4d93-a443-53a97a515da4",
        "colab": {
          "base_uri": "https://localhost:8080/",
          "height": 319
        }
      },
      "source": [
        "#data path and init\n",
        "data = ImageDataBunch.from_folder(path=path_images, train='train', valid='valid', bs=bs, classes=['TT','others','garbage']) \n",
        "data.normalize()"
      ],
      "execution_count": 0,
      "outputs": [
        {
          "output_type": "execute_result",
          "data": {
            "text/plain": [
              "ImageDataBunch;\n",
              "\n",
              "Train: LabelList (18786 items)\n",
              "x: ImageList\n",
              "Image (3, 31, 279),Image (3, 31, 279),Image (3, 31, 279),Image (3, 31, 279),Image (3, 31, 279)\n",
              "y: CategoryList\n",
              "garbage,garbage,garbage,garbage,garbage\n",
              "Path: k9;\n",
              "\n",
              "Valid: LabelList (6119 items)\n",
              "x: ImageList\n",
              "Image (3, 31, 279),Image (3, 31, 279),Image (3, 31, 279),Image (3, 31, 279),Image (3, 31, 279)\n",
              "y: CategoryList\n",
              "garbage,garbage,garbage,garbage,garbage\n",
              "Path: k9;\n",
              "\n",
              "Test: None"
            ]
          },
          "metadata": {
            "tags": []
          },
          "execution_count": 30
        }
      ]
    },
    {
      "cell_type": "code",
      "metadata": {
        "id": "dFUkr3zk2_LX",
        "colab_type": "code",
        "colab": {}
      },
      "source": [
        "learn = cnn_learner(data, models.resnet152, metrics=error_rate)"
      ],
      "execution_count": 0,
      "outputs": []
    },
    {
      "cell_type": "code",
      "metadata": {
        "id": "lPyzlmJn4nnB",
        "colab_type": "code",
        "colab": {}
      },
      "source": [
        "learn.load('/content/drive/My Drive/bc-k9/models/bcell-TL-k9')\n",
        "learn.freeze()"
      ],
      "execution_count": 0,
      "outputs": []
    },
    {
      "cell_type": "code",
      "metadata": {
        "id": "Po0797TX4uAN",
        "colab_type": "code",
        "outputId": "6917098b-0ff2-46ea-e8af-58344f266a9f",
        "colab": {
          "base_uri": "https://localhost:8080/",
          "height": 332
        }
      },
      "source": [
        "learn.lr_find(start_lr=1e-6, end_lr=1e1, wd=5e-3)\n",
        "learn.recorder.plot(suggestion=True)"
      ],
      "execution_count": 0,
      "outputs": [
        {
          "output_type": "display_data",
          "data": {
            "text/html": [
              ""
            ],
            "text/plain": [
              "<IPython.core.display.HTML object>"
            ]
          },
          "metadata": {
            "tags": []
          }
        },
        {
          "output_type": "stream",
          "text": [
            "LR Finder is complete, type {learner_name}.recorder.plot() to see the graph.\n",
            "Min numerical gradient: 1.32E-05\n",
            "Min loss divided by 10: 4.90E-03\n"
          ],
          "name": "stdout"
        },
        {
          "output_type": "display_data",
          "data": {
            "image/png": "[encoded data removed]",
            "text/plain": [
              "<Figure size 432x288 with 1 Axes>"
            ]
          },
          "metadata": {
            "tags": []
          }
        }
      ]
    },
    {
      "cell_type": "code",
      "metadata": {
        "id": "V82ulLLDGuJD",
        "colab_type": "code",
        "outputId": "445853f7-1401-45d7-a4f0-352c4f9ec6b1",
        "colab": {
          "base_uri": "https://localhost:8080/",
          "height": 80
        }
      },
      "source": [
        "learn.fit_one_cycle(1, max_lr=slice(3e-4, 3e-2))"
      ],
      "execution_count": 0,
      "outputs": [
        {
          "output_type": "display_data",
          "data": {
            "text/html": [
              "<table border=\"1\" class=\"dataframe\">\n",
              "  <thead>\n",
              "    <tr style=\"text-align: left;\">\n",
              "      <th>epoch</th>\n",
              "      <th>train_loss</th>\n",
              "      <th>valid_loss</th>\n",
              "      <th>error_rate</th>\n",
              "      <th>time</th>\n",
              "    </tr>\n",
              "  </thead>\n",
              "  <tbody>\n",
              "    <tr>\n",
              "      <td>0</td>\n",
              "      <td>0.203859</td>\n",
              "      <td>0.157278</td>\n",
              "      <td>0.064226</td>\n",
              "      <td>01:37</td>\n",
              "    </tr>\n",
              "  </tbody>\n",
              "</table>"
            ],
            "text/plain": [
              "<IPython.core.display.HTML object>"
            ]
          },
          "metadata": {
            "tags": []
          }
        }
      ]
    },
    {
      "cell_type": "code",
      "metadata": {
        "id": "-g3zt21s4eLt",
        "colab_type": "code",
        "outputId": "582a57c3-b240-42aa-eaf0-c4d37ad1046a",
        "colab": {
          "base_uri": "https://localhost:8080/",
          "height": 332
        }
      },
      "source": [
        "learn.lr_find()\n",
        "learn.recorder.plot(suggestion=True)"
      ],
      "execution_count": 0,
      "outputs": [
        {
          "output_type": "display_data",
          "data": {
            "text/html": [
              ""
            ],
            "text/plain": [
              "<IPython.core.display.HTML object>"
            ]
          },
          "metadata": {
            "tags": []
          }
        },
        {
          "output_type": "stream",
          "text": [
            "LR Finder is complete, type {learner_name}.recorder.plot() to see the graph.\n",
            "Min numerical gradient: 6.31E-07\n",
            "Min loss divided by 10: 4.79E-07\n"
          ],
          "name": "stdout"
        },
        {
          "output_type": "display_data",
          "data": {
            "image/png": "[encoded data removed]",
            "text/plain": [
              "<Figure size 432x288 with 1 Axes>"
            ]
          },
          "metadata": {
            "tags": []
          }
        }
      ]
    },
    {
      "cell_type": "code",
      "metadata": {
        "id": "eRTYw9nd5vFk",
        "colab_type": "code",
        "outputId": "1920bc1d-13be-4f1c-eaf6-8526fdc5c3db",
        "colab": {
          "base_uri": "https://localhost:8080/",
          "height": 80
        }
      },
      "source": [
        "learn.fit_one_cycle(1, max_lr=slice(1.6e-6))"
      ],
      "execution_count": 0,
      "outputs": [
        {
          "output_type": "display_data",
          "data": {
            "text/html": [
              "<table border=\"1\" class=\"dataframe\">\n",
              "  <thead>\n",
              "    <tr style=\"text-align: left;\">\n",
              "      <th>epoch</th>\n",
              "      <th>train_loss</th>\n",
              "      <th>valid_loss</th>\n",
              "      <th>error_rate</th>\n",
              "      <th>time</th>\n",
              "    </tr>\n",
              "  </thead>\n",
              "  <tbody>\n",
              "    <tr>\n",
              "      <td>0</td>\n",
              "      <td>0.179310</td>\n",
              "      <td>0.158082</td>\n",
              "      <td>0.061775</td>\n",
              "      <td>01:35</td>\n",
              "    </tr>\n",
              "  </tbody>\n",
              "</table>"
            ],
            "text/plain": [
              "<IPython.core.display.HTML object>"
            ]
          },
          "metadata": {
            "tags": []
          }
        }
      ]
    },
    {
      "cell_type": "code",
      "metadata": {
        "id": "er6vqFsGK9a5",
        "colab_type": "code",
        "outputId": "800452c1-ea1e-4659-d854-2164fa83a0fc",
        "colab": {
          "base_uri": "https://localhost:8080/",
          "height": 1000
        }
      },
      "source": [
        "learn.fit_one_cycle(10, max_lr=slice(3e-3))\n",
        "#learn.save('bcells-r152-ndata')\n",
        "learn.recorder.plot_losses()\n",
        "# # schedule of the lr (left) and momentum (right) that the 1cycle policy uses\n",
        "learn.recorder.plot_lr(show_moms=True)\n",
        "learn.recorder.plot_metrics()"
      ],
      "execution_count": 0,
      "outputs": [
        {
          "output_type": "display_data",
          "data": {
            "text/html": [
              "<table border=\"1\" class=\"dataframe\">\n",
              "  <thead>\n",
              "    <tr style=\"text-align: left;\">\n",
              "      <th>epoch</th>\n",
              "      <th>train_loss</th>\n",
              "      <th>valid_loss</th>\n",
              "      <th>error_rate</th>\n",
              "      <th>time</th>\n",
              "    </tr>\n",
              "  </thead>\n",
              "  <tbody>\n",
              "    <tr>\n",
              "      <td>0</td>\n",
              "      <td>0.186635</td>\n",
              "      <td>0.151841</td>\n",
              "      <td>0.061611</td>\n",
              "      <td>01:37</td>\n",
              "    </tr>\n",
              "    <tr>\n",
              "      <td>1</td>\n",
              "      <td>0.182790</td>\n",
              "      <td>0.151417</td>\n",
              "      <td>0.061938</td>\n",
              "      <td>01:37</td>\n",
              "    </tr>\n",
              "    <tr>\n",
              "      <td>2</td>\n",
              "      <td>0.164163</td>\n",
              "      <td>0.152830</td>\n",
              "      <td>0.059977</td>\n",
              "      <td>01:36</td>\n",
              "    </tr>\n",
              "    <tr>\n",
              "      <td>3</td>\n",
              "      <td>0.210442</td>\n",
              "      <td>0.150251</td>\n",
              "      <td>0.060631</td>\n",
              "      <td>01:36</td>\n",
              "    </tr>\n",
              "    <tr>\n",
              "      <td>4</td>\n",
              "      <td>0.151282</td>\n",
              "      <td>0.167236</td>\n",
              "      <td>0.063899</td>\n",
              "      <td>01:36</td>\n",
              "    </tr>\n",
              "    <tr>\n",
              "      <td>5</td>\n",
              "      <td>0.128271</td>\n",
              "      <td>0.152206</td>\n",
              "      <td>0.061121</td>\n",
              "      <td>01:37</td>\n",
              "    </tr>\n",
              "    <tr>\n",
              "      <td>6</td>\n",
              "      <td>0.107948</td>\n",
              "      <td>0.160600</td>\n",
              "      <td>0.060141</td>\n",
              "      <td>01:36</td>\n",
              "    </tr>\n",
              "    <tr>\n",
              "      <td>7</td>\n",
              "      <td>0.091160</td>\n",
              "      <td>0.167826</td>\n",
              "      <td>0.059977</td>\n",
              "      <td>01:36</td>\n",
              "    </tr>\n",
              "    <tr>\n",
              "      <td>8</td>\n",
              "      <td>0.088712</td>\n",
              "      <td>0.177138</td>\n",
              "      <td>0.061938</td>\n",
              "      <td>01:36</td>\n",
              "    </tr>\n",
              "    <tr>\n",
              "      <td>9</td>\n",
              "      <td>0.079599</td>\n",
              "      <td>0.174638</td>\n",
              "      <td>0.062102</td>\n",
              "      <td>01:37</td>\n",
              "    </tr>\n",
              "  </tbody>\n",
              "</table>"
            ],
            "text/plain": [
              "<IPython.core.display.HTML object>"
            ]
          },
          "metadata": {
            "tags": []
          }
        },
        {
          "output_type": "display_data",
          "data": {
            "image/png": "[encoded data removed]",
            "text/plain": [
              "<Figure size 432x288 with 1 Axes>"
            ]
          },
          "metadata": {
            "tags": []
          }
        },
        {
          "output_type": "display_data",
          "data": {
            "image/png": "[encoded data removed]",
            "text/plain": [
              "<Figure size 864x288 with 2 Axes>"
            ]
          },
          "metadata": {
            "tags": []
          }
        },
        {
          "output_type": "display_data",
          "data": {
            "image/png": "[encoded data removed]",
            "text/plain": [
              "<Figure size 432x288 with 1 Axes>"
            ]
          },
          "metadata": {
            "tags": []
          }
        }
      ]
    },
    {
      "cell_type": "code",
      "metadata": {
        "id": "N47abYa7Lyhm",
        "colab_type": "code",
        "colab": {}
      },
      "source": [
        "learn.save('bcell-TL3-k9')"
      ],
      "execution_count": 0,
      "outputs": []
    },
    {
      "cell_type": "code",
      "metadata": {
        "id": "zEaFgZKJL4gm",
        "colab_type": "code",
        "colab": {}
      },
      "source": [
        "learn.export('bcell-TL3-k9.pkl')"
      ],
      "execution_count": 0,
      "outputs": []
    },
    {
      "cell_type": "code",
      "metadata": {
        "id": "ELcwUdqh-jWR",
        "colab_type": "code",
        "colab": {}
      },
      "source": [
        "learn.load('bcell-TL3-k9')\n",
        "interp = ClassificationInterpretation.from_learner(learn)"
      ],
      "execution_count": 0,
      "outputs": []
    },
    {
      "cell_type": "code",
      "metadata": {
        "id": "UbMQSHJ4iahu",
        "colab_type": "code",
        "outputId": "23bdc671-4eb2-4115-9830-1a2139947dc5",
        "colab": {
          "base_uri": "https://localhost:8080/",
          "height": 467
        }
      },
      "source": [
        "interp.plot_top_losses(9, figsize=(8,8))"
      ],
      "execution_count": 0,
      "outputs": [
        {
          "output_type": "display_data",
          "data": {
            "image/png": "[encoded data removed]",
            "text/plain": [
              "<Figure size 576x576 with 9 Axes>"
            ]
          },
          "metadata": {
            "tags": []
          }
        }
      ]
    },
    {
      "cell_type": "code",
      "metadata": {
        "id": "8HfkJS0Rsiui",
        "colab_type": "code",
        "outputId": "c74d67ff-814a-4216-94fc-42afdbecdb62",
        "colab": {
          "base_uri": "https://localhost:8080/",
          "height": 195
        }
      },
      "source": [
        "losses, indexes = interp.top_losses(20)\n",
        "\n",
        "top_loss_paths = data.valid_ds.x.items[indexes]\n",
        "\n",
        "print(top_loss_paths)"
      ],
      "execution_count": 0,
      "outputs": [
        {
          "output_type": "stream",
          "text": [
            "[PosixPath('k9/valid/TT/BG1017_10s02_88.jpg') PosixPath('k9/valid/TT/BK1024_10s01_132.jpg')\n",
            " PosixPath('k9/valid/others/BM1024_10s01_141.jpg') PosixPath('k9/valid/others/BK1010_10s01_252.jpg')\n",
            " PosixPath('k9/valid/others/BG1017_10s03_172.jpg') PosixPath('k9/valid/others/LJ0926_10s04_209.jpg')\n",
            " PosixPath('k9/valid/others/BK1003_10s05_198.jpg') PosixPath('k9/valid/garbage/BM1024_10s02_887.jpg')\n",
            " PosixPath('k9/valid/TT/BG1017_10s03_142.jpg') PosixPath('k9/valid/others/BK0926_10s01_176.jpg')\n",
            " PosixPath('k9/valid/garbage/BK1003_10s03_1247.jpg') PosixPath('k9/valid/TT/BK1010_10s01_9.jpg')\n",
            " PosixPath('k9/valid/garbage/BK0926_10s01_8566.jpg') PosixPath('k9/valid/garbage/LJ0926_10s02_3813.jpg')\n",
            " PosixPath('k9/valid/garbage/BK0926_10s01_4068.jpg') PosixPath('k9/valid/garbage/BK1024_10s01_834.jpg')\n",
            " PosixPath('k9/valid/others/BG1022_10s02_210.jpg') PosixPath('k9/valid/garbage/BK1010_10s01_1199.jpg')\n",
            " PosixPath('k9/valid/garbage/BG1008_10s02_2453.jpg') PosixPath('k9/valid/TT/LJ0926_10s03_50.jpg')]\n"
          ],
          "name": "stdout"
        }
      ]
    },
    {
      "cell_type": "code",
      "metadata": {
        "id": "DswjK79dipO7",
        "colab_type": "code",
        "outputId": "e67bc531-7fcc-481d-bde5-b4a219396894",
        "colab": {
          "base_uri": "https://localhost:8080/",
          "height": 599
        }
      },
      "source": [
        "interp.plot_confusion_matrix(normalize=True, figsize=(8,8))"
      ],
      "execution_count": 0,
      "outputs": [
        {
          "output_type": "display_data",
          "data": {
            "image/png": "[encoded data removed]",
            "text/plain": [
              "<Figure size 576x576 with 1 Axes>"
            ]
          },
          "metadata": {
            "tags": []
          }
        }
      ]
    },
    {
      "cell_type": "code",
      "metadata": {
        "id": "3eknSJwDkHZa",
        "colab_type": "code",
        "outputId": "1587a90c-0d37-4d69-c68a-f97d58f12deb",
        "colab": {
          "base_uri": "https://localhost:8080/",
          "height": 599
        }
      },
      "source": [
        "interp.plot_confusion_matrix(figsize=(8,8))"
      ],
      "execution_count": 0,
      "outputs": [
        {
          "output_type": "display_data",
          "data": {
            "image/png": "[encoded data removed]",
            "text/plain": [
              "<Figure size 576x576 with 1 Axes>"
            ]
          },
          "metadata": {
            "tags": []
          }
        }
      ]
    },
    {
      "cell_type": "code",
      "metadata": {
        "id": "A3EkMSraW2sG",
        "colab_type": "code",
        "outputId": "cc9a07ea-bb2b-4745-ead1-a692d91e77ce",
        "colab": {
          "base_uri": "https://localhost:8080/",
          "height": 70
        }
      },
      "source": [
        "import glob\n",
        "\n",
        "image_list = glob.glob('k9/valid/*/*')\n",
        "\n",
        "C0 = 0\n",
        "Pred_C0=0\n",
        "C1=0\n",
        "Pred_C1=0\n",
        "C2=0\n",
        "Pred_C2=0\n",
        "\n",
        "for each in image_list:\n",
        "    img = open_image(each)\n",
        "    each = each.split('/')\n",
        "    bc_class = each[2]\n",
        "    pred_class, pred_idx, outputs = learn.predict(img)\n",
        "    pred_class = str(pred_class)\n",
        "         \n",
        "    if bc_class == 'TT':\n",
        "        C0 += 1\n",
        "        if pred_class == 'TT':\n",
        "            Pred_C0 += 1\n",
        "    elif bc_class == 'others':\n",
        "        C1 += 1\n",
        "        if pred_class == 'others':\n",
        "            Pred_C1 += 1\n",
        "    elif bc_class == 'garbage':\n",
        "        C2 += 1\n",
        "        if pred_class == 'garbage':\n",
        "            Pred_C2 += 1\n",
        "            \n",
        "    \n",
        "print('TT classification: ' + str(Pred_C0) + '/' + str(C0))\n",
        "print('others classification: ' + str(Pred_C1) + '/' + str(C1))\n",
        "print('garbage classification: ' + str(Pred_C2) + '/' + str(C2) )"
      ],
      "execution_count": 0,
      "outputs": [
        {
          "output_type": "stream",
          "text": [
            "TT classification: 892/1000\n",
            "others classification: 55/119\n",
            "garbage classification: 4792/5000\n"
          ],
          "name": "stdout"
        }
      ]
    },
    {
      "cell_type": "code",
      "metadata": {
        "id": "eyntMIX8a_3z",
        "colab_type": "code",
        "colab": {}
      },
      "source": [
        "##############Testing################### (not done)"
      ],
      "execution_count": 0,
      "outputs": []
    },
    {
      "cell_type": "code",
      "metadata": {
        "id": "G8kchzhhkcz5",
        "colab_type": "code",
        "outputId": "44efd539-d1a1-4a5d-b713-1dffedc5ad76",
        "colab": {
          "base_uri": "https://localhost:8080/",
          "height": 319
        }
      },
      "source": [
        "data = ImageDataBunch.from_folder(path=path_images, train='train', valid='test', bs=bs, classes=['TT','others','garbage']) \n",
        "data.normalize()"
      ],
      "execution_count": 0,
      "outputs": [
        {
          "output_type": "execute_result",
          "data": {
            "text/plain": [
              "ImageDataBunch;\n",
              "\n",
              "Train: LabelList (26600 items)\n",
              "x: ImageList\n",
              "Image (3, 31, 248),Image (3, 31, 248),Image (3, 31, 248),Image (3, 31, 248),Image (3, 31, 248)\n",
              "y: CategoryList\n",
              "TT,TT,TT,TT,TT\n",
              "Path: 10nov;\n",
              "\n",
              "Valid: LabelList (8096 items)\n",
              "x: ImageList\n",
              "Image (3, 31, 248),Image (3, 31, 248),Image (3, 31, 248),Image (3, 31, 248),Image (3, 31, 248)\n",
              "y: CategoryList\n",
              "garbage,garbage,garbage,garbage,garbage\n",
              "Path: 10nov;\n",
              "\n",
              "Test: None"
            ]
          },
          "metadata": {
            "tags": []
          },
          "execution_count": 34
        }
      ]
    },
    {
      "cell_type": "code",
      "metadata": {
        "id": "Bbe9cca1ktcw",
        "colab_type": "code",
        "colab": {}
      },
      "source": [
        "learn = cnn_learner(data, models.resnet152, metrics=error_rate)"
      ],
      "execution_count": 0,
      "outputs": []
    },
    {
      "cell_type": "code",
      "metadata": {
        "id": "_2RoGoL2lEAT",
        "colab_type": "code",
        "colab": {}
      },
      "source": [
        "learn = learn.load('bcells-r152')"
      ],
      "execution_count": 0,
      "outputs": []
    },
    {
      "cell_type": "code",
      "metadata": {
        "id": "GaRi0SvYlG-r",
        "colab_type": "code",
        "colab": {}
      },
      "source": [
        "interp = ClassificationInterpretation.from_learner(learn)"
      ],
      "execution_count": 0,
      "outputs": []
    },
    {
      "cell_type": "code",
      "metadata": {
        "id": "dzxsylerlIsk",
        "colab_type": "code",
        "colab": {}
      },
      "source": [
        "interp.plot_confusion_matrix(normalize=True, figsize=(8,8))"
      ],
      "execution_count": 0,
      "outputs": []
    },
    {
      "cell_type": "code",
      "metadata": {
        "id": "9so692oulQBX",
        "colab_type": "code",
        "colab": {}
      },
      "source": [
        "interp.plot_confusion_matrix(figsize=(8,8))"
      ],
      "execution_count": 0,
      "outputs": []
    },
    {
      "cell_type": "code",
      "metadata": {
        "id": "mKB1EB2hust6",
        "colab_type": "code",
        "colab": {}
      },
      "source": [
        "import glob\n",
        "\n",
        "image_list = glob.glob('10nov/test/*/*')\n",
        "\n",
        "C0 = 0\n",
        "Pred_C0=0\n",
        "C1=0\n",
        "Pred_C1=0\n",
        "C2=0\n",
        "Pred_C2=0\n",
        "\n",
        "for each in image_list:\n",
        "    img = open_image(each)\n",
        "    each = each.split('/')\n",
        "    bc_class = each[2]\n",
        "    pred_class, pred_idx, outputs = learn.predict(img)\n",
        "    pred_class = str(pred_class)\n",
        "         \n",
        "    if bc_class == 'TT':\n",
        "        C0 += 1\n",
        "        if pred_class == 'TT':\n",
        "            Pred_C0 += 1\n",
        "    elif bc_class == 'others':\n",
        "        C1 += 1\n",
        "        if pred_class == 'others':\n",
        "            Pred_C1 += 1\n",
        "    elif bc_class == 'garbage':\n",
        "        C2 += 1\n",
        "        if pred_class == 'garbage':\n",
        "            Pred_C2 += 1\n",
        "            \n",
        "    \n",
        "print('TT classification: ' + str(Pred_C0) + '/' + str(C0))\n",
        "print('others classification: ' + str(Pred_C1) + '/' + str(C1))\n",
        "print('garbage classification: ' + str(Pred_C2) + '/' + str(C2) )"
      ],
      "execution_count": 0,
      "outputs": []
    },
    {
      "cell_type": "code",
      "metadata": {
        "id": "dJXiv4FsA7oU",
        "colab_type": "code",
        "colab": {}
      },
      "source": [
        ""
      ],
      "execution_count": 0,
      "outputs": []
    }
  ]
}